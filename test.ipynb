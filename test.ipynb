{
 "cells": [
  {
   "cell_type": "code",
   "execution_count": 13,
   "metadata": {},
   "outputs": [],
   "source": [
    "import pandas as pd\n",
    "from bs4 import BeautifulSoup\n",
    "import requests\n",
    "import numpy as np"
   ]
  },
  {
   "cell_type": "code",
   "execution_count": 14,
   "metadata": {},
   "outputs": [],
   "source": [
    "page = requests.get('https://www.swiggy.com/city/hyderabad?page=1')"
   ]
  },
  {
   "cell_type": "code",
   "execution_count": 15,
   "metadata": {},
   "outputs": [
    {
     "data": {
      "text/plain": [
       "200"
      ]
     },
     "execution_count": 15,
     "metadata": {},
     "output_type": "execute_result"
    }
   ],
   "source": [
    "page.status_code"
   ]
  },
  {
   "cell_type": "code",
   "execution_count": 16,
   "metadata": {},
   "outputs": [],
   "source": [
    "html = page.text"
   ]
  },
  {
   "cell_type": "code",
   "execution_count": 17,
   "metadata": {},
   "outputs": [],
   "source": [
    "soup = BeautifulSoup(html)"
   ]
  },
  {
   "cell_type": "code",
   "execution_count": 18,
   "metadata": {},
   "outputs": [],
   "source": [
    "# soup.prettify"
   ]
  },
  {
   "cell_type": "code",
   "execution_count": 19,
   "metadata": {},
   "outputs": [],
   "source": [
    "names = soup.find_all('div', attrs={'class':'nA6kb'})\n"
   ]
  },
  {
   "cell_type": "code",
   "execution_count": 20,
   "metadata": {},
   "outputs": [
    {
     "data": {
      "text/plain": [
       "'FLAT125 off | Use FLATDEAL'"
      ]
     },
     "execution_count": 20,
     "metadata": {},
     "output_type": "execute_result"
    }
   ],
   "source": [
    "rating = soup.find('span', attrs={'class':'sNAfh'})\n",
    "rating.text"
   ]
  },
  {
   "cell_type": "code",
   "execution_count": 21,
   "metadata": {},
   "outputs": [],
   "source": [
    "name = []\n",
    "cuisine = []\n",
    "rating = []\n",
    "avg_del_time = []\n",
    "avg_price = []\n",
    "offer = []"
   ]
  },
  {
   "cell_type": "code",
   "execution_count": null,
   "metadata": {},
   "outputs": [],
   "source": []
  },
  {
   "cell_type": "code",
   "execution_count": 22,
   "metadata": {},
   "outputs": [
    {
     "name": "stdout",
     "output_type": "stream",
     "text": [
      "0\n",
      "0\n",
      "0\n",
      "0\n",
      "0\n",
      "0\n"
     ]
    }
   ],
   "source": [
    "print(len(name))\n",
    "print(len(cuisine))\n",
    "print(len(rating))\n",
    "print(len(avg_del_time))\n",
    "print(len(avg_price))\n",
    "print(len(offer))"
   ]
  },
  {
   "cell_type": "code",
   "execution_count": 23,
   "metadata": {},
   "outputs": [],
   "source": [
    "for n in range(1,84):\n",
    "    URL = 'https://www.swiggy.com/city/hyderabad?page={}'.format(n)\n",
    "        \n",
    "    page = requests.get(URL)\n",
    "    htmlCode = page.text\n",
    "\n",
    "    soup = BeautifulSoup(htmlCode)\n",
    "    \n",
    "    for item in soup.find_all('div', attrs={'class' : '_1HEuF'}):\n",
    "\n",
    "        # name\n",
    "        names = item.find('div', attrs={'class' : 'nA6kb'})\n",
    "        name.append(names.text)\n",
    "\n",
    "        # cuisine\n",
    "        cuisine_ = soup.find('div', attrs={'class' : '_1gURR'})\n",
    "        if cuisine_ is not None:\n",
    "            cuisine.append(cuisine_.text)\n",
    "        else:\n",
    "            cuisine.append(np.nan)\n",
    "\n",
    "        # ratings\n",
    "        rating_ = soup.find('div', attrs={'class' : '_9uwBC wY0my'})\n",
    "        if rating_ is not None:\n",
    "            rating.append(rating_.text)\n",
    "        else:\n",
    "            rating.append(np.nan)\n",
    "\n",
    "        # dilivery\n",
    "        diliveryts = soup.find('div', attrs={'class' : '_3Mn31'})\n",
    "        if diliveryts is not None:\n",
    "            avg_del_time.append(diliveryts.text.split('•')[1])\n",
    "        else:\n",
    "            avg_del_time.append(np.nan)\n",
    "        \n",
    "        # avgerage price\n",
    "        avg_price_ = soup.find('div', attrs={'class' : 'nVWSi'})\n",
    "        if avg_price_ is not None:\n",
    "            avg_price.append(avg_price_.text)\n",
    "        else:\n",
    "            avg_price.append(np.nan)\n",
    "\n",
    "        # offer\n",
    "        offer_ = soup.find('span', attrs={'class' : 'sNAfh'})\n",
    "        if offer_ is not None:\n",
    "            offer.append(offer_.text)\n",
    "        else:\n",
    "            offer.append('No offer')"
   ]
  },
  {
   "cell_type": "code",
   "execution_count": 24,
   "metadata": {},
   "outputs": [
    {
     "name": "stdout",
     "output_type": "stream",
     "text": [
      "1116\n",
      "1116\n",
      "1116\n",
      "1116\n",
      "1116\n"
     ]
    }
   ],
   "source": [
    "print(len(name))\n",
    "print(len(cuisine))\n",
    "print(len(avg_del_time))\n",
    "print(len(avg_price))\n",
    "print(len(offer))"
   ]
  },
  {
   "cell_type": "code",
   "execution_count": 25,
   "metadata": {},
   "outputs": [
    {
     "data": {
      "text/html": [
       "<div>\n",
       "<style scoped>\n",
       "    .dataframe tbody tr th:only-of-type {\n",
       "        vertical-align: middle;\n",
       "    }\n",
       "\n",
       "    .dataframe tbody tr th {\n",
       "        vertical-align: top;\n",
       "    }\n",
       "\n",
       "    .dataframe thead th {\n",
       "        text-align: right;\n",
       "    }\n",
       "</style>\n",
       "<table border=\"1\" class=\"dataframe\">\n",
       "  <thead>\n",
       "    <tr style=\"text-align: right;\">\n",
       "      <th></th>\n",
       "      <th>name</th>\n",
       "      <th>cuisine</th>\n",
       "      <th>avg_del_time</th>\n",
       "      <th>avg_price_for_2</th>\n",
       "      <th>offers</th>\n",
       "    </tr>\n",
       "  </thead>\n",
       "  <tbody>\n",
       "    <tr>\n",
       "      <th>0</th>\n",
       "      <td>Hitech Bawarchi</td>\n",
       "      <td>Biryani, Chinese, Indian, Kebabs, Tandoor</td>\n",
       "      <td>27 MINS</td>\n",
       "      <td>₹300 FOR TWO</td>\n",
       "      <td>50% off | Use WELCOME50</td>\n",
       "    </tr>\n",
       "    <tr>\n",
       "      <th>1</th>\n",
       "      <td>Mehfil</td>\n",
       "      <td>Biryani, Chinese, Indian, Kebabs, Tandoor</td>\n",
       "      <td>27 MINS</td>\n",
       "      <td>₹300 FOR TWO</td>\n",
       "      <td>50% off | Use WELCOME50</td>\n",
       "    </tr>\n",
       "    <tr>\n",
       "      <th>2</th>\n",
       "      <td>Rice Bowl</td>\n",
       "      <td>Biryani, Chinese, Indian, Kebabs, Tandoor</td>\n",
       "      <td>27 MINS</td>\n",
       "      <td>₹300 FOR TWO</td>\n",
       "      <td>50% off | Use WELCOME50</td>\n",
       "    </tr>\n",
       "    <tr>\n",
       "      <th>3</th>\n",
       "      <td>Magnolia Bakery</td>\n",
       "      <td>Biryani, Chinese, Indian, Kebabs, Tandoor</td>\n",
       "      <td>27 MINS</td>\n",
       "      <td>₹300 FOR TWO</td>\n",
       "      <td>50% off | Use WELCOME50</td>\n",
       "    </tr>\n",
       "    <tr>\n",
       "      <th>4</th>\n",
       "      <td>Meridian Restaurant</td>\n",
       "      <td>Biryani, Chinese, Indian, Kebabs, Tandoor</td>\n",
       "      <td>27 MINS</td>\n",
       "      <td>₹300 FOR TWO</td>\n",
       "      <td>50% off | Use WELCOME50</td>\n",
       "    </tr>\n",
       "    <tr>\n",
       "      <th>...</th>\n",
       "      <td>...</td>\n",
       "      <td>...</td>\n",
       "      <td>...</td>\n",
       "      <td>...</td>\n",
       "      <td>...</td>\n",
       "    </tr>\n",
       "    <tr>\n",
       "      <th>1111</th>\n",
       "      <td>Breads and Sauces</td>\n",
       "      <td>Biryani, Snacks, Indian, Desserts</td>\n",
       "      <td>50 MINS</td>\n",
       "      <td>₹300 FOR TWO</td>\n",
       "      <td>50% off | Use WELCOME50</td>\n",
       "    </tr>\n",
       "    <tr>\n",
       "      <th>1112</th>\n",
       "      <td>Peppy Chicken</td>\n",
       "      <td>Biryani, Snacks, Indian, Desserts</td>\n",
       "      <td>50 MINS</td>\n",
       "      <td>₹300 FOR TWO</td>\n",
       "      <td>50% off | Use WELCOME50</td>\n",
       "    </tr>\n",
       "    <tr>\n",
       "      <th>1113</th>\n",
       "      <td>Gelatissimo</td>\n",
       "      <td>Biryani, Snacks, Indian, Desserts</td>\n",
       "      <td>50 MINS</td>\n",
       "      <td>₹300 FOR TWO</td>\n",
       "      <td>50% off | Use WELCOME50</td>\n",
       "    </tr>\n",
       "    <tr>\n",
       "      <th>1114</th>\n",
       "      <td>Chemistry With Chinestry</td>\n",
       "      <td>Biryani, Snacks, Indian, Desserts</td>\n",
       "      <td>50 MINS</td>\n",
       "      <td>₹300 FOR TWO</td>\n",
       "      <td>50% off | Use WELCOME50</td>\n",
       "    </tr>\n",
       "    <tr>\n",
       "      <th>1115</th>\n",
       "      <td>desi momo</td>\n",
       "      <td>Biryani, Snacks, Indian, Desserts</td>\n",
       "      <td>50 MINS</td>\n",
       "      <td>₹300 FOR TWO</td>\n",
       "      <td>50% off | Use WELCOME50</td>\n",
       "    </tr>\n",
       "  </tbody>\n",
       "</table>\n",
       "<p>1116 rows × 5 columns</p>\n",
       "</div>"
      ],
      "text/plain": [
       "                          name                                    cuisine  \\\n",
       "0              Hitech Bawarchi  Biryani, Chinese, Indian, Kebabs, Tandoor   \n",
       "1                       Mehfil  Biryani, Chinese, Indian, Kebabs, Tandoor   \n",
       "2                    Rice Bowl  Biryani, Chinese, Indian, Kebabs, Tandoor   \n",
       "3              Magnolia Bakery  Biryani, Chinese, Indian, Kebabs, Tandoor   \n",
       "4          Meridian Restaurant  Biryani, Chinese, Indian, Kebabs, Tandoor   \n",
       "...                        ...                                        ...   \n",
       "1111         Breads and Sauces          Biryani, Snacks, Indian, Desserts   \n",
       "1112             Peppy Chicken          Biryani, Snacks, Indian, Desserts   \n",
       "1113               Gelatissimo          Biryani, Snacks, Indian, Desserts   \n",
       "1114  Chemistry With Chinestry          Biryani, Snacks, Indian, Desserts   \n",
       "1115                 desi momo          Biryani, Snacks, Indian, Desserts   \n",
       "\n",
       "     avg_del_time avg_price_for_2                   offers  \n",
       "0         27 MINS    ₹300 FOR TWO  50% off | Use WELCOME50  \n",
       "1         27 MINS    ₹300 FOR TWO  50% off | Use WELCOME50  \n",
       "2         27 MINS    ₹300 FOR TWO  50% off | Use WELCOME50  \n",
       "3         27 MINS    ₹300 FOR TWO  50% off | Use WELCOME50  \n",
       "4         27 MINS    ₹300 FOR TWO  50% off | Use WELCOME50  \n",
       "...           ...             ...                      ...  \n",
       "1111      50 MINS    ₹300 FOR TWO  50% off | Use WELCOME50  \n",
       "1112      50 MINS    ₹300 FOR TWO  50% off | Use WELCOME50  \n",
       "1113      50 MINS    ₹300 FOR TWO  50% off | Use WELCOME50  \n",
       "1114      50 MINS    ₹300 FOR TWO  50% off | Use WELCOME50  \n",
       "1115      50 MINS    ₹300 FOR TWO  50% off | Use WELCOME50  \n",
       "\n",
       "[1116 rows x 5 columns]"
      ]
     },
     "execution_count": 25,
     "metadata": {},
     "output_type": "execute_result"
    }
   ],
   "source": [
    "df = pd.DataFrame({'name':name,\n",
    "                    'cuisine':cuisine,\n",
    "                    'avg_del_time': avg_del_time,\n",
    "                    'avg_price_for_2': avg_price,\n",
    "                    'offers': offer})\n",
    "\n",
    "df"
   ]
  },
  {
   "cell_type": "code",
   "execution_count": 28,
   "metadata": {},
   "outputs": [
    {
     "data": {
      "text/plain": [
       "(1116, 5)"
      ]
     },
     "execution_count": 28,
     "metadata": {},
     "output_type": "execute_result"
    }
   ],
   "source": [
    "df.shape"
   ]
  },
  {
   "cell_type": "code",
   "execution_count": 27,
   "metadata": {},
   "outputs": [],
   "source": [
    "df.to_csv('swiggy1.csv', index=False)"
   ]
  },
  {
   "cell_type": "code",
   "execution_count": null,
   "metadata": {},
   "outputs": [],
   "source": []
  }
 ],
 "metadata": {
  "kernelspec": {
   "display_name": "base",
   "language": "python",
   "name": "python3"
  },
  "language_info": {
   "codemirror_mode": {
    "name": "ipython",
    "version": 3
   },
   "file_extension": ".py",
   "mimetype": "text/x-python",
   "name": "python",
   "nbconvert_exporter": "python",
   "pygments_lexer": "ipython3",
   "version": "3.9.13"
  },
  "orig_nbformat": 4,
  "vscode": {
   "interpreter": {
    "hash": "dc07d24e2f18896857f0b2a651fe84ba40ce7b297e58d8804a308c8039f752a6"
   }
  }
 },
 "nbformat": 4,
 "nbformat_minor": 2
}
